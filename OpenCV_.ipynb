{
 "cells": [
  {
   "cell_type": "code",
   "execution_count": 6,
   "metadata": {},
   "outputs": [],
   "source": [
    "import sys\n",
    "import numpy as np\n",
    "import matplotlib.pyplot as plt\n",
    "import cv2\n",
    "import os\n",
    "\n",
    "# ! pip install --upgrade opencv-python\n",
    "# ! pip install opencv-python\n",
    "# !python.exe -m pip install --upgrade pip"
   ]
  },
  {
   "cell_type": "code",
   "execution_count": 4,
   "metadata": {},
   "outputs": [],
   "source": [
    "img = cv2.imread('fig/puppy.bmp')\n",
    "\n",
    "# print(type(img))\n",
    "# print(img.type)\n",
    "# print(img.shape)\n",
    "h,w = img.shape[:2]\n",
    "img_resize = cv2.resize(img,(w//2,h//2))   # 가로 세로 바꿔 쓰기\n",
    "\n",
    "if img is None:\n",
    "    print('image not found')\n",
    "    sys.exit()\n",
    "\n",
    "cv2.namedWindow('img', cv2.WINDOW_AUTOSIZE)\n",
    "cv2.imshow('imag', img)\n",
    "cv2.imshow('img', img_resize)\n",
    "\n",
    "# while True:\n",
    "#     key = cv2.waitKey()\n",
    "#     if key == 27 or key ==ord('q'):\n",
    "#         break\n",
    "cv2.waitKey()\n",
    "\n",
    "cv2.destroyAllWindows()\n"
   ]
  }
 ],
 "metadata": {
  "kernelspec": {
   "display_name": "py3.8",
   "language": "python",
   "name": "python3"
  },
  "language_info": {
   "codemirror_mode": {
    "name": "ipython",
    "version": 3
   },
   "file_extension": ".py",
   "mimetype": "text/x-python",
   "name": "python",
   "nbconvert_exporter": "python",
   "pygments_lexer": "ipython3",
   "version": "3.8.16"
  },
  "orig_nbformat": 4
 },
 "nbformat": 4,
 "nbformat_minor": 2
}
