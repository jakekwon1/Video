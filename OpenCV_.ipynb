{
 "cells": [
  {
   "cell_type": "code",
   "execution_count": 2,
   "metadata": {},
   "outputs": [],
   "source": [
    "import sys\n",
    "import numpy as np\n",
    "import matplotlib.pyplot as plt\n",
    "import cv2\n",
    "import os"
   ]
  },
  {
   "cell_type": "code",
   "execution_count": 4,
   "metadata": {},
   "outputs": [
    {
     "ename": "AttributeError",
     "evalue": "module 'cv2' has no attribute 'WINDOW_autosize'",
     "output_type": "error",
     "traceback": [
      "\u001b[1;31m---------------------------------------------------------------------------\u001b[0m",
      "\u001b[1;31mAttributeError\u001b[0m                            Traceback (most recent call last)",
      "Cell \u001b[1;32mIn[4], line 13\u001b[0m\n\u001b[0;32m     10\u001b[0m     \u001b[39mprint\u001b[39m(\u001b[39m'\u001b[39m\u001b[39mimage not found\u001b[39m\u001b[39m'\u001b[39m)\n\u001b[0;32m     11\u001b[0m     sys\u001b[39m.\u001b[39mexit()\n\u001b[1;32m---> 13\u001b[0m cv2\u001b[39m.\u001b[39mnamedWindow(\u001b[39m'\u001b[39m\u001b[39mimg\u001b[39m\u001b[39m'\u001b[39m, cv2\u001b[39m.\u001b[39;49mWINDOW_autosize)\n\u001b[0;32m     14\u001b[0m cv2\u001b[39m.\u001b[39mimshow(\u001b[39m'\u001b[39m\u001b[39mimag\u001b[39m\u001b[39m'\u001b[39m, img)\n\u001b[0;32m     15\u001b[0m cs2\u001b[39m.\u001b[39mimshow(\u001b[39m'\u001b[39m\u001b[39mimg\u001b[39m\u001b[39m'\u001b[39m, img_resize)\n",
      "\u001b[1;31mAttributeError\u001b[0m: module 'cv2' has no attribute 'WINDOW_autosize'"
     ]
    }
   ],
   "source": [
    "img = cv2.imread('fig/puppy.bmp')\n",
    "\n",
    "# print(type(img))\n",
    "# print(img.type)\n",
    "# print(img.shape)\n",
    "# h,w = img.shape[:2]\n",
    "# img_resize = cv2.resize(img,(w//2), (h//2))   # 가로 세로 바꿔 쓰기\n",
    "\n",
    "if img is None:\n",
    "    print('image not found')\n",
    "    sys.exit()\n",
    "\n",
    "cv2.namedWindow('img', cv2.WINDOW_autosize)\n",
    "cv2.imshow('imag', img)\n",
    "cs2.imshow('img', img_resize)\n",
    "\n",
    "while True:\n",
    "    key = cv2.waitKey()\n",
    "    if key == 27 or key ==ord('q'):\n",
    "        break\n",
    "\n",
    "# cv2.destroyAllWindows()\n"
   ]
  },
  {
   "cell_type": "code",
   "execution_count": null,
   "metadata": {},
   "outputs": [],
   "source": [
    "img_BGR = cv2.imread('fig/baek_woon.jpg',cv2.IMREAD_RE\n",
    "img_RGB = cv2.cvtColor(img_BGR,cv2.COLOR_BGRA)\n",
    "\n"
   ]
  }
 ],
 "metadata": {
  "kernelspec": {
   "display_name": "py3.8",
   "language": "python",
   "name": "python3"
  },
  "language_info": {
   "codemirror_mode": {
    "name": "ipython",
    "version": 3
   },
   "file_extension": ".py",
   "mimetype": "text/x-python",
   "name": "python",
   "nbconvert_exporter": "python",
   "pygments_lexer": "ipython3",
   "version": "3.8.16"
  },
  "orig_nbformat": 4
 },
 "nbformat": 4,
 "nbformat_minor": 2
}
