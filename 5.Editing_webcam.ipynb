{
 "cells": [
  {
   "cell_type": "code",
   "execution_count": 1,
   "metadata": {},
   "outputs": [],
   "source": [
    "import cv2\n",
    "import numpy as np\n",
    "import sys"
   ]
  },
  {
   "cell_type": "code",
   "execution_count": 23,
   "metadata": {},
   "outputs": [],
   "source": [
    "cap = cv2.VideoCapture(0)\n",
    "# print(cap.isOpened())\n",
    "\n",
    "if not cap.isOpened(): # 현재 카메라 기능 확인\n",
    "    print('camera open failed') # 없으면 출력\n",
    "    sys.exit()\n",
    "\n",
    "while True:  # 프레임 단위로 가져오는 과정\n",
    "    ret, frame = cap.read()  #반복 과 사진(프레임)\n",
    "\n",
    "    if not ret:  # 가져오는게 없으면 멈추기\n",
    "        print('frame read failed')\n",
    "        break\n",
    "    \n",
    "    cv2.circle(frame, (50,280), 50, (0,0,255), 3, cv2.LINE_AA)  # 동영상에 원 넣기\n",
    "    cv2.imshow('frame', frame)  # 동영상 프레임 가져오기\n",
    "     \n",
    "    if cv2.waitKey(10) == 27: #\n",
    "        break\n",
    "cap.release()  # 사용안하면 기능 정지\n",
    "cv2.destroyAllWindows()\n"
   ]
  },
  {
   "cell_type": "code",
   "execution_count": 36,
   "metadata": {},
   "outputs": [],
   "source": [
    "cap = cv2.VideoCapture(0)\n",
    "if not cap.isOpened():\n",
    "    print('cam not found')\n",
    "    sys.exit()\n",
    "    \n",
    "while True:\n",
    "    ret, frame = cap.read()\n",
    "    \n",
    "    if not ret:\n",
    "        print('cam not found')\n",
    "        break\n",
    "\n",
    "    edge = cv2.Canny(frame, 80,120)   # 테두리(edge)만 가져오기\n",
    "        \n",
    "    # cv2.imshow('frame', frame)\n",
    "    cv2.imshow('edge', edge)\n",
    "    \n",
    "    if cv2.waitKey(10)== 27:\n",
    "        break\n",
    "\n",
    "cap.release()\n",
    "cv2.destroyAllWindows()\n",
    "        \n",
    "    "
   ]
  },
  {
   "cell_type": "code",
   "execution_count": 4,
   "metadata": {},
   "outputs": [
    {
     "name": "stdout",
     "output_type": "stream",
     "text": [
      "width 640 \n",
      "height 480 \n",
      "fps 30\n"
     ]
    }
   ],
   "source": [
    "cap = cv2.VideoCapture(0)\n",
    "if not cap.isOpened():\n",
    "    print('cam not found')\n",
    "    sys.exit()\n",
    "    \n",
    "w = int(cap.get(cv2.CAP_PROP_FRAME_WIDTH)) # 넓이 \n",
    "h = int(cap.get(cv2.CAP_PROP_FRAME_HEIGHT)) # 높이\n",
    "fps = int(cap.get(cv2.CAP_PROP_FPS)) # 프레임 단위\n",
    "\n",
    "print('width' ,w, '\\nheight',h,'\\nfps',fps  )\n",
    "\n",
    "fourcc = cv2.VideoWriter_fourcc(*'DIVX')   # or ('D','I','V','X')\n",
    "out = cv2.VideoWriter('fig/output.avi',fourcc, fps,(w,h), isColor=False)    # '이름' 으로 'fourcc를 이용해서  가져오기\n",
    "\n",
    "while True:\n",
    "    ret, frame = cap.read()\n",
    "    \n",
    "    if not ret:\n",
    "        print('cam not found')\n",
    "        break\n",
    "    \n",
    "    edge = cv2.Canny(frame, 80,120)\n",
    "    \n",
    "    out.write(edge)\n",
    "\n",
    "    # cv2.imshow('frame', frame)\n",
    "    cv2.imshow('edge', edge)\n",
    "    \n",
    "    if cv2.waitKey(10)== 27:\n",
    "        break\n",
    "\n",
    "\n",
    "cap.release()\n",
    "out.release()\n",
    "cv2.destroyAllWindows()\n",
    "        "
   ]
  }
 ],
 "metadata": {
  "kernelspec": {
   "display_name": "Python 3 (ipykernel)",
   "language": "python",
   "name": "python3"
  },
  "language_info": {
   "codemirror_mode": {
    "name": "ipython",
    "version": 3
   },
   "file_extension": ".py",
   "mimetype": "text/x-python",
   "name": "python",
   "nbconvert_exporter": "python",
   "pygments_lexer": "ipython3",
   "version": "3.9.16"
  }
 },
 "nbformat": 4,
 "nbformat_minor": 2
}
