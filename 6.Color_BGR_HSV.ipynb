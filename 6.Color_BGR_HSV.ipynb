{
 "cells": [
  {
   "cell_type": "code",
   "execution_count": 2,
   "metadata": {},
   "outputs": [],
   "source": [
    "import numpy as np\n",
    "import cv2, sys\n",
    "import matplotlib.pyplot as plt"
   ]
  },
  {
   "cell_type": "code",
   "execution_count": null,
   "metadata": {},
   "outputs": [],
   "source": [
    "src = cv2.imread('fig/lenna.bmp', 1)\n",
    "# src = cv2.imread('fig/lenna.bmp', 0)\n",
    "# dst = np.clip(src + 100.,0,255).astype('uint8')\n",
    "dst = cv2.add(src, (100,100,100,0))\n",
    "# print(dst.dtype)\n",
    "\n",
    "cv2.imshow('src', src)\n",
    "cv2.imshow('dst', dst)\n",
    "\n",
    "\n",
    "cv2.waitKey()\n",
    "cv2.destroyAllWindows()\n"
   ]
  },
  {
   "cell_type": "code",
   "execution_count": null,
   "metadata": {},
   "outputs": [],
   "source": [
    "src = cv2.imread('fig/lenna256.bmp', 0)\n",
    "src2 = np.zeros_like(src, np.uint8)\n",
    "cv2.circle(src2, (128,128), 100, 200, -1)\n",
    "cv2.circle(src2, (128,128), 50, 50, -1)\n",
    "\n",
    "dst = cv2.add(src, src2)\n",
    "dst2 = cv2.addWeighted(src,0.5, src2,0.5,0)\n",
    "dst3 = cv2.subtract(src, src2,)\n",
    "dst4 = cv2.absdiff(src, src2)\n",
    "\n",
    "# cv2.imshow('src', src)\n",
    "# cv2.imshow('src2', src2)\n",
    "# cv2.imshow('dst', dst3)\n",
    "# cv2.imshow('dst2', dst4)\n",
    "\n",
    "\n",
    "fig, ax = plt.subplots(1,6, figsize= (12,6))\n",
    "\n",
    "ax[0].imshow(src, cmap='gray'), ax[0]. axis('off'), ax[0].set_title('src')\n",
    "ax[1].imshow(src2, cmap='gray'), ax[1]. axis('off'), ax[1].set_title('src2')\n",
    "ax[2].imshow(dst, cmap='gray'), ax[2].axis('off'), ax[2].set_title('add')\n",
    "ax[3].imshow(dst2, cmap='gray'), ax[3]. axis('off'), ax[3].set_title('addweight')\n",
    "ax[4].imshow(dst3, cmap='gray'), ax[4]. axis('off'), ax[4].set_title('sub')\n",
    "ax[5].imshow(dst4, cmap='gray'), ax[5]. axis('off'), ax[5].set_title('abs')\n",
    "\n",
    "\n",
    "\n",
    "cv2.waitKey()\n",
    "cv2.destroyAllWindows()\n"
   ]
  },
  {
   "cell_type": "code",
   "execution_count": null,
   "metadata": {},
   "outputs": [],
   "source": [
    "src = cv2.imread('fig/flowers.jpg')\n",
    "src_hsv = cv2.cvtColor(src, cv2.COLOR_BGR2HSV)\n",
    "\n",
    "\n",
    "\n",
    "# b,g,r = cv2.split(src)\n",
    "# g_ = cv2.add(g, 50)\n",
    "# dst = cv2.merge((b,g_,r))\n",
    "\n",
    "# h,s,v = cv2.split(scr_hsv)\n",
    "# h = src_hsv[:,:,0]\n",
    "# s = src_hsv[:,:,1]\n",
    "# v = src_hsv[:,:,2]   # 전부 위와 같은 명령어 (cv2 사용 못할 때 사용 가능ㄴ)\n",
    "\n",
    "# v_ = cv2.add(v, 50)\n",
    "# dst2 = cv2.merge((h,s,v_))\n",
    "# dst2 = cv2.cvtColor(dst2, cv2.COLOR_HSV2BGR)\n",
    "\n",
    "# cv2.imshow('src',src)\n",
    "# cv2.imshow('src_hsv',src_hsv)\n",
    "\n",
    "# cv2.imshow('dst',dst)\n",
    "# cv2.imshow('b',b)\n",
    "# cv2.imshow('g',g)\n",
    "# cv2.imshow('r',r)\n",
    "\n",
    "cv2.imshow('dst2',dst2)\n",
    "cv2.imshow('h',h)\n",
    "cv2.imshow('s',s)\n",
    "cv2.imshow('v',v)\n",
    "\n",
    "\n",
    "cv2.waitKey()\n",
    "cv2.destroyAllWindows()"
   ]
  },
  {
   "cell_type": "code",
   "execution_count": null,
   "metadata": {},
   "outputs": [],
   "source": [
    "src = cv2.imread('fig/lenna.bmp', 0)\n",
    "src_c = cv2.imread('fig/lenna.bmp', 1)\n",
    "\n",
    "\n",
    "hist = cv2.calcHist([src], [0], None, [256], [0,256])\n",
    "\n",
    "hist_b = cv2.calcHist([src_c], [0], None, [256], [0,256])\n",
    "hist_g = cv2.calcHist([src_c], [1], None, [256], [0,256])\n",
    "hist_r = cv2.calcHist([src_c], [2], None, [256], [0,256])\n",
    "\n",
    "\n",
    "# plt.figure(figsize =(12,8))\n",
    "# plt.plot(hist)\n",
    "\n",
    "plt.plot(hist_b,color= 'b', label = 'B_Channel')\n",
    "plt.plot(hist_g,color= 'g', label = 'G_Channel')\n",
    "plt.plot(hist_r,color= 'r', label = 'R_Channel')\n",
    "plt.show()\n",
    "\n",
    "cv2.imshow('src', src)\n",
    "\n",
    "cv2.waitKey()\n",
    "cv2.destroyAllWindows()\n"
   ]
  },
  {
   "cell_type": "code",
   "execution_count": null,
   "metadata": {},
   "outputs": [],
   "source": [
    "src = cv2.imread('fig/manjang.jpg', 0)\n",
    "\n",
    "Imin, Imax , _ , _ = cv2.minMaxLoc(src)\n",
    "# print(Imin,Imax)\n",
    "\n",
    "dst = np.clip(((src- Imin)/(Imax - Imin))* 255 - 0, 0, 255).astype(np.uint8)\n",
    "dst_norm = cv2.normalize(src, None, 0, 255, cv2.NORM_MINMAX)\n",
    "dst_eql = cv2.equalizeHist(src)\n",
    "\n",
    "cv2.imshow('src', src)\n",
    "cv2.imshow('dst', dst_norm)\n",
    "cv2.imshow('equal', dst_eql)\n",
    "\n",
    "cv2.waitKey()\n",
    "cv2.destroyAllWindows()\n"
   ]
  },
  {
   "cell_type": "code",
   "execution_count": null,
   "metadata": {},
   "outputs": [],
   "source": [
    "src = cv2.imread('fig/spring_in_park.jpg', cv2.IMREAD_REDUCED_COLOR_2)\n",
    "src_hsv = cv2.cvtColor(src, cv2.COLOR_BGR2HSV)\n",
    "\n",
    "h,s,v = cv2.split(src_hsv)\n",
    "\n",
    "v_ = cv2.normalize(v, None, 0, 255, cv2.NORM_MINMAX)\n",
    "dst = cv2.merge((h,s,v_))\n",
    "dst = cv2.cvtColor(dst, cv2.COLOR_HSV2BGR)\n",
    "\n",
    "v_eql = cv2.equalizeHist(v)\n",
    "dst2 = cv2.merge((h,s,v_eql))\n",
    "dst2 = cv2.cvtColor(dst2, cv2.COLOR_HSV2BGR)\n",
    "\n",
    "cv2.imshow('src', src)\n",
    "cv2.imshow('dst', dst)\n",
    "cv2.imshow('dst2', dst2)\n",
    "\n",
    "cv2.waitKey()\n",
    "cv2.destroyAllWindows()\n"
   ]
  },
  {
   "cell_type": "code",
   "execution_count": null,
   "metadata": {},
   "outputs": [],
   "source": [
    "src = cv2.imread('fig/palette.png')\n",
    "src_hsv = cv2.cvtColor(src, cv2.COLOR_BGR2HSV)\n",
    "\n",
    "\n",
    "dst = cv2.inRange(src, (0,0,100),(50,50,255))\n",
    "dst1 = cv2.inRange(src_hsv, (110,200,100),(130,255,150))\n",
    "\n",
    "cv2.imshow('src', src)\n",
    "# cv2.imshow('dst', dst)\n",
    "cv2.imshow('dst1',dst1)\n",
    "\n",
    "cv2.waitKey()\n",
    "cv2.destroyAllWindows()\n"
   ]
  },
  {
   "attachments": {},
   "cell_type": "markdown",
   "metadata": {},
   "source": [
    "# Test"
   ]
  },
  {
   "cell_type": "code",
   "execution_count": null,
   "metadata": {},
   "outputs": [],
   "source": [
    "img = cv2.imread('fig/palette.png')\n",
    "src_hsv = cv2.cvtColor(img, cv2.COLOR_BGR2HSV)\n",
    "img1=img.copy()\n"
   ]
  },
  {
   "cell_type": "code",
   "execution_count": 24,
   "metadata": {},
   "outputs": [],
   "source": [
    "def BAR(pos):\n",
    "    hmin = cv2.getTrackbarPos('H_Min', 'img')\n",
    "    hmax = cv2.getTrackbarPos('H_Max', 'img')\n",
    "    smin = cv2.getTrackbarPos('S_Min', 'img')\n",
    "    smax = cv2.getTrackbarPos('S_Max', 'img')\n",
    "    vmin = cv2.getTrackbarPos('V_Min', 'img')\n",
    "    vmax = cv2.getTrackbarPos('V_Max', 'img')\n",
    "    \n",
    "    src = cv2.inRange(src_hsv, (hmin,smin,vmin),(hmax,smax,vmax))\n",
    "    src = cv2.cvtColor(src_hsv, cv2.COLOR_HSV2BGR)\n",
    "    \n",
    "    cv2.imshow('img', src)\n"
   ]
  },
  {
   "cell_type": "code",
   "execution_count": 46,
   "metadata": {},
   "outputs": [
    {
     "ename": "error",
     "evalue": "OpenCV(4.7.0) D:\\a\\opencv-python\\opencv-python\\opencv\\modules\\highgui\\src\\window.cpp:866: error: (-215:Assertion failed) trackbar in function 'cv::getTrackbarPos'\n",
     "output_type": "error",
     "traceback": [
      "\u001b[1;31m---------------------------------------------------------------------------\u001b[0m",
      "\u001b[1;31merror\u001b[0m                                     Traceback (most recent call last)",
      "Cell \u001b[1;32mIn[46], line 12\u001b[0m, in \u001b[0;36mBAR\u001b[1;34m(pos)\u001b[0m\n\u001b[0;32m     10\u001b[0m \u001b[39mdef\u001b[39;00m \u001b[39mBAR\u001b[39m(pos):\n\u001b[0;32m     11\u001b[0m     hmin \u001b[39m=\u001b[39m cv2\u001b[39m.\u001b[39mgetTrackbarPos(\u001b[39m'\u001b[39m\u001b[39mH_Min\u001b[39m\u001b[39m'\u001b[39m, \u001b[39m'\u001b[39m\u001b[39mimg\u001b[39m\u001b[39m'\u001b[39m)\n\u001b[1;32m---> 12\u001b[0m     hmax \u001b[39m=\u001b[39m cv2\u001b[39m.\u001b[39;49mgetTrackbarPos(\u001b[39m'\u001b[39;49m\u001b[39mH_Max\u001b[39;49m\u001b[39m'\u001b[39;49m, \u001b[39m'\u001b[39;49m\u001b[39mimg\u001b[39;49m\u001b[39m'\u001b[39;49m)\n\u001b[0;32m     13\u001b[0m     smin \u001b[39m=\u001b[39m cv2\u001b[39m.\u001b[39mgetTrackbarPos(\u001b[39m'\u001b[39m\u001b[39mS_Min\u001b[39m\u001b[39m'\u001b[39m, \u001b[39m'\u001b[39m\u001b[39mimg\u001b[39m\u001b[39m'\u001b[39m)\n\u001b[0;32m     14\u001b[0m     smax \u001b[39m=\u001b[39m cv2\u001b[39m.\u001b[39mgetTrackbarPos(\u001b[39m'\u001b[39m\u001b[39mS_Max\u001b[39m\u001b[39m'\u001b[39m, \u001b[39m'\u001b[39m\u001b[39mimg\u001b[39m\u001b[39m'\u001b[39m)\n",
      "\u001b[1;31merror\u001b[0m: OpenCV(4.7.0) D:\\a\\opencv-python\\opencv-python\\opencv\\modules\\highgui\\src\\window.cpp:866: error: (-215:Assertion failed) trackbar in function 'cv::getTrackbarPos'\n"
     ]
    },
    {
     "ename": "error",
     "evalue": "OpenCV(4.7.0) D:\\a\\opencv-python\\opencv-python\\opencv\\modules\\highgui\\src\\window.cpp:866: error: (-215:Assertion failed) trackbar in function 'cv::getTrackbarPos'\n",
     "output_type": "error",
     "traceback": [
      "\u001b[1;31m---------------------------------------------------------------------------\u001b[0m",
      "\u001b[1;31merror\u001b[0m                                     Traceback (most recent call last)",
      "Cell \u001b[1;32mIn[46], line 13\u001b[0m, in \u001b[0;36mBAR\u001b[1;34m(pos)\u001b[0m\n\u001b[0;32m     11\u001b[0m hmin \u001b[39m=\u001b[39m cv2\u001b[39m.\u001b[39mgetTrackbarPos(\u001b[39m'\u001b[39m\u001b[39mH_Min\u001b[39m\u001b[39m'\u001b[39m, \u001b[39m'\u001b[39m\u001b[39mimg\u001b[39m\u001b[39m'\u001b[39m)\n\u001b[0;32m     12\u001b[0m hmax \u001b[39m=\u001b[39m cv2\u001b[39m.\u001b[39mgetTrackbarPos(\u001b[39m'\u001b[39m\u001b[39mH_Max\u001b[39m\u001b[39m'\u001b[39m, \u001b[39m'\u001b[39m\u001b[39mimg\u001b[39m\u001b[39m'\u001b[39m)\n\u001b[1;32m---> 13\u001b[0m smin \u001b[39m=\u001b[39m cv2\u001b[39m.\u001b[39;49mgetTrackbarPos(\u001b[39m'\u001b[39;49m\u001b[39mS_Min\u001b[39;49m\u001b[39m'\u001b[39;49m, \u001b[39m'\u001b[39;49m\u001b[39mimg\u001b[39;49m\u001b[39m'\u001b[39;49m)\n\u001b[0;32m     14\u001b[0m smax \u001b[39m=\u001b[39m cv2\u001b[39m.\u001b[39mgetTrackbarPos(\u001b[39m'\u001b[39m\u001b[39mS_Max\u001b[39m\u001b[39m'\u001b[39m, \u001b[39m'\u001b[39m\u001b[39mimg\u001b[39m\u001b[39m'\u001b[39m)\n\u001b[0;32m     15\u001b[0m vmin \u001b[39m=\u001b[39m cv2\u001b[39m.\u001b[39mgetTrackbarPos(\u001b[39m'\u001b[39m\u001b[39mV_Min\u001b[39m\u001b[39m'\u001b[39m, \u001b[39m'\u001b[39m\u001b[39mimg\u001b[39m\u001b[39m'\u001b[39m)\n",
      "\u001b[1;31merror\u001b[0m: OpenCV(4.7.0) D:\\a\\opencv-python\\opencv-python\\opencv\\modules\\highgui\\src\\window.cpp:866: error: (-215:Assertion failed) trackbar in function 'cv::getTrackbarPos'\n"
     ]
    },
    {
     "ename": "error",
     "evalue": "OpenCV(4.7.0) D:\\a\\opencv-python\\opencv-python\\opencv\\modules\\highgui\\src\\window.cpp:866: error: (-215:Assertion failed) trackbar in function 'cv::getTrackbarPos'\n",
     "output_type": "error",
     "traceback": [
      "\u001b[1;31m---------------------------------------------------------------------------\u001b[0m",
      "\u001b[1;31merror\u001b[0m                                     Traceback (most recent call last)",
      "Cell \u001b[1;32mIn[46], line 14\u001b[0m, in \u001b[0;36mBAR\u001b[1;34m(pos)\u001b[0m\n\u001b[0;32m     12\u001b[0m hmax \u001b[39m=\u001b[39m cv2\u001b[39m.\u001b[39mgetTrackbarPos(\u001b[39m'\u001b[39m\u001b[39mH_Max\u001b[39m\u001b[39m'\u001b[39m, \u001b[39m'\u001b[39m\u001b[39mimg\u001b[39m\u001b[39m'\u001b[39m)\n\u001b[0;32m     13\u001b[0m smin \u001b[39m=\u001b[39m cv2\u001b[39m.\u001b[39mgetTrackbarPos(\u001b[39m'\u001b[39m\u001b[39mS_Min\u001b[39m\u001b[39m'\u001b[39m, \u001b[39m'\u001b[39m\u001b[39mimg\u001b[39m\u001b[39m'\u001b[39m)\n\u001b[1;32m---> 14\u001b[0m smax \u001b[39m=\u001b[39m cv2\u001b[39m.\u001b[39;49mgetTrackbarPos(\u001b[39m'\u001b[39;49m\u001b[39mS_Max\u001b[39;49m\u001b[39m'\u001b[39;49m, \u001b[39m'\u001b[39;49m\u001b[39mimg\u001b[39;49m\u001b[39m'\u001b[39;49m)\n\u001b[0;32m     15\u001b[0m vmin \u001b[39m=\u001b[39m cv2\u001b[39m.\u001b[39mgetTrackbarPos(\u001b[39m'\u001b[39m\u001b[39mV_Min\u001b[39m\u001b[39m'\u001b[39m, \u001b[39m'\u001b[39m\u001b[39mimg\u001b[39m\u001b[39m'\u001b[39m)\n\u001b[0;32m     16\u001b[0m vmax \u001b[39m=\u001b[39m cv2\u001b[39m.\u001b[39mgetTrackbarPos(\u001b[39m'\u001b[39m\u001b[39mV_Max\u001b[39m\u001b[39m'\u001b[39m, \u001b[39m'\u001b[39m\u001b[39mimg\u001b[39m\u001b[39m'\u001b[39m)\n",
      "\u001b[1;31merror\u001b[0m: OpenCV(4.7.0) D:\\a\\opencv-python\\opencv-python\\opencv\\modules\\highgui\\src\\window.cpp:866: error: (-215:Assertion failed) trackbar in function 'cv::getTrackbarPos'\n"
     ]
    },
    {
     "ename": "error",
     "evalue": "OpenCV(4.7.0) D:\\a\\opencv-python\\opencv-python\\opencv\\modules\\highgui\\src\\window.cpp:866: error: (-215:Assertion failed) trackbar in function 'cv::getTrackbarPos'\n",
     "output_type": "error",
     "traceback": [
      "\u001b[1;31m---------------------------------------------------------------------------\u001b[0m",
      "\u001b[1;31merror\u001b[0m                                     Traceback (most recent call last)",
      "Cell \u001b[1;32mIn[46], line 15\u001b[0m, in \u001b[0;36mBAR\u001b[1;34m(pos)\u001b[0m\n\u001b[0;32m     13\u001b[0m smin \u001b[39m=\u001b[39m cv2\u001b[39m.\u001b[39mgetTrackbarPos(\u001b[39m'\u001b[39m\u001b[39mS_Min\u001b[39m\u001b[39m'\u001b[39m, \u001b[39m'\u001b[39m\u001b[39mimg\u001b[39m\u001b[39m'\u001b[39m)\n\u001b[0;32m     14\u001b[0m smax \u001b[39m=\u001b[39m cv2\u001b[39m.\u001b[39mgetTrackbarPos(\u001b[39m'\u001b[39m\u001b[39mS_Max\u001b[39m\u001b[39m'\u001b[39m, \u001b[39m'\u001b[39m\u001b[39mimg\u001b[39m\u001b[39m'\u001b[39m)\n\u001b[1;32m---> 15\u001b[0m vmin \u001b[39m=\u001b[39m cv2\u001b[39m.\u001b[39;49mgetTrackbarPos(\u001b[39m'\u001b[39;49m\u001b[39mV_Min\u001b[39;49m\u001b[39m'\u001b[39;49m, \u001b[39m'\u001b[39;49m\u001b[39mimg\u001b[39;49m\u001b[39m'\u001b[39;49m)\n\u001b[0;32m     16\u001b[0m vmax \u001b[39m=\u001b[39m cv2\u001b[39m.\u001b[39mgetTrackbarPos(\u001b[39m'\u001b[39m\u001b[39mV_Max\u001b[39m\u001b[39m'\u001b[39m, \u001b[39m'\u001b[39m\u001b[39mimg\u001b[39m\u001b[39m'\u001b[39m)\n\u001b[0;32m     18\u001b[0m src \u001b[39m=\u001b[39m cv2\u001b[39m.\u001b[39minRange(src_hsv, (hmin,smin,vmin),(hmax,smax,vmax))\n",
      "\u001b[1;31merror\u001b[0m: OpenCV(4.7.0) D:\\a\\opencv-python\\opencv-python\\opencv\\modules\\highgui\\src\\window.cpp:866: error: (-215:Assertion failed) trackbar in function 'cv::getTrackbarPos'\n"
     ]
    },
    {
     "ename": "error",
     "evalue": "OpenCV(4.7.0) D:\\a\\opencv-python\\opencv-python\\opencv\\modules\\highgui\\src\\window.cpp:866: error: (-215:Assertion failed) trackbar in function 'cv::getTrackbarPos'\n",
     "output_type": "error",
     "traceback": [
      "\u001b[1;31m---------------------------------------------------------------------------\u001b[0m",
      "\u001b[1;31merror\u001b[0m                                     Traceback (most recent call last)",
      "Cell \u001b[1;32mIn[46], line 16\u001b[0m, in \u001b[0;36mBAR\u001b[1;34m(pos)\u001b[0m\n\u001b[0;32m     14\u001b[0m smax \u001b[39m=\u001b[39m cv2\u001b[39m.\u001b[39mgetTrackbarPos(\u001b[39m'\u001b[39m\u001b[39mS_Max\u001b[39m\u001b[39m'\u001b[39m, \u001b[39m'\u001b[39m\u001b[39mimg\u001b[39m\u001b[39m'\u001b[39m)\n\u001b[0;32m     15\u001b[0m vmin \u001b[39m=\u001b[39m cv2\u001b[39m.\u001b[39mgetTrackbarPos(\u001b[39m'\u001b[39m\u001b[39mV_Min\u001b[39m\u001b[39m'\u001b[39m, \u001b[39m'\u001b[39m\u001b[39mimg\u001b[39m\u001b[39m'\u001b[39m)\n\u001b[1;32m---> 16\u001b[0m vmax \u001b[39m=\u001b[39m cv2\u001b[39m.\u001b[39;49mgetTrackbarPos(\u001b[39m'\u001b[39;49m\u001b[39mV_Max\u001b[39;49m\u001b[39m'\u001b[39;49m, \u001b[39m'\u001b[39;49m\u001b[39mimg\u001b[39;49m\u001b[39m'\u001b[39;49m)\n\u001b[0;32m     18\u001b[0m src \u001b[39m=\u001b[39m cv2\u001b[39m.\u001b[39minRange(src_hsv, (hmin,smin,vmin),(hmax,smax,vmax))\n\u001b[0;32m     19\u001b[0m \u001b[39m# src = cv2.cvtColor(src_hsv, cv2.COLOR_HSV2BGR)\u001b[39;00m\n",
      "\u001b[1;31merror\u001b[0m: OpenCV(4.7.0) D:\\a\\opencv-python\\opencv-python\\opencv\\modules\\highgui\\src\\window.cpp:866: error: (-215:Assertion failed) trackbar in function 'cv::getTrackbarPos'\n"
     ]
    },
    {
     "ename": "error",
     "evalue": "OpenCV(4.7.0) D:\\a\\opencv-python\\opencv-python\\opencv\\modules\\highgui\\src\\window.cpp:866: error: (-215:Assertion failed) trackbar in function 'cv::getTrackbarPos'\n",
     "output_type": "error",
     "traceback": [
      "\u001b[1;31m---------------------------------------------------------------------------\u001b[0m",
      "\u001b[1;31merror\u001b[0m                                     Traceback (most recent call last)",
      "Cell \u001b[1;32mIn[46], line 16\u001b[0m, in \u001b[0;36mBAR\u001b[1;34m(pos)\u001b[0m\n\u001b[0;32m     14\u001b[0m smax \u001b[39m=\u001b[39m cv2\u001b[39m.\u001b[39mgetTrackbarPos(\u001b[39m'\u001b[39m\u001b[39mS_Max\u001b[39m\u001b[39m'\u001b[39m, \u001b[39m'\u001b[39m\u001b[39mimg\u001b[39m\u001b[39m'\u001b[39m)\n\u001b[0;32m     15\u001b[0m vmin \u001b[39m=\u001b[39m cv2\u001b[39m.\u001b[39mgetTrackbarPos(\u001b[39m'\u001b[39m\u001b[39mV_Min\u001b[39m\u001b[39m'\u001b[39m, \u001b[39m'\u001b[39m\u001b[39mimg\u001b[39m\u001b[39m'\u001b[39m)\n\u001b[1;32m---> 16\u001b[0m vmax \u001b[39m=\u001b[39m cv2\u001b[39m.\u001b[39;49mgetTrackbarPos(\u001b[39m'\u001b[39;49m\u001b[39mV_Max\u001b[39;49m\u001b[39m'\u001b[39;49m, \u001b[39m'\u001b[39;49m\u001b[39mimg\u001b[39;49m\u001b[39m'\u001b[39;49m)\n\u001b[0;32m     18\u001b[0m src \u001b[39m=\u001b[39m cv2\u001b[39m.\u001b[39minRange(src_hsv, (hmin,smin,vmin),(hmax,smax,vmax))\n\u001b[0;32m     19\u001b[0m \u001b[39m# src = cv2.cvtColor(src_hsv, cv2.COLOR_HSV2BGR)\u001b[39;00m\n",
      "\u001b[1;31merror\u001b[0m: OpenCV(4.7.0) D:\\a\\opencv-python\\opencv-python\\opencv\\modules\\highgui\\src\\window.cpp:866: error: (-215:Assertion failed) trackbar in function 'cv::getTrackbarPos'\n"
     ]
    }
   ],
   "source": [
    "img = cv2.imread('fig/palette.png')\n",
    "\n",
    "if img is None:\n",
    "    print('Image load failed!')\n",
    "    sys.exit()\n",
    "\n",
    "src_hsv = cv2.cvtColor(img, cv2.COLOR_BGR2HSV)\n",
    "img1=img.copy()\n",
    "\n",
    "def BAR(pos):\n",
    "    hmin = cv2.getTrackbarPos('H_Min', 'img')\n",
    "    hmax = cv2.getTrackbarPos('H_Max', 'img')\n",
    "    smin = cv2.getTrackbarPos('S_Min', 'img')\n",
    "    smax = cv2.getTrackbarPos('S_Max', 'img')\n",
    "    vmin = cv2.getTrackbarPos('V_Min', 'img')\n",
    "    vmax = cv2.getTrackbarPos('V_Max', 'img')\n",
    "    \n",
    "    src = cv2.inRange(src_hsv, (hmin,smin,vmin),(hmax,smax,vmax))\n",
    "    # src = cv2.cvtColor(src_hsv, cv2.COLOR_HSV2BGR)\n",
    "    cv2.imshow('img', src)\n",
    "\n",
    "\n",
    "cv2.imshow('copy', img1)\n",
    "cv2.namedWindow('img')\n",
    "\n",
    "cv2.createTrackbar('H_Min','img',40, 179, BAR)\n",
    "cv2.createTrackbar('H_Max','img',79, 179, BAR)\n",
    "cv2.createTrackbar('S_Min','img',10, 255, BAR)\n",
    "cv2.createTrackbar('S_Max','img',55, 255, BAR)\n",
    "cv2.createTrackbar('V_Min','img',10, 255, BAR)\n",
    "cv2.createTrackbar('V_MAx','img',55, 255, BAR)\n",
    "\n",
    "\n",
    "cv2.waitKey()\n",
    "cv2.destroyAllWindows()\n"
   ]
  },
  {
   "cell_type": "code",
   "execution_count": 11,
   "metadata": {},
   "outputs": [
    {
     "ename": "error",
     "evalue": "OpenCV(4.7.0) D:\\a\\opencv-python\\opencv-python\\opencv\\modules\\highgui\\src\\window.cpp:866: error: (-215:Assertion failed) trackbar in function 'cv::getTrackbarPos'\n",
     "output_type": "error",
     "traceback": [
      "\u001b[1;31m---------------------------------------------------------------------------\u001b[0m",
      "\u001b[1;31merror\u001b[0m                                     Traceback (most recent call last)",
      "Cell \u001b[1;32mIn[11], line 13\u001b[0m, in \u001b[0;36mBAR\u001b[1;34m(pos)\u001b[0m\n\u001b[0;32m     11\u001b[0m hmin \u001b[39m=\u001b[39m cv2\u001b[39m.\u001b[39mgetTrackbarPos(\u001b[39m'\u001b[39m\u001b[39mH_Min\u001b[39m\u001b[39m'\u001b[39m, \u001b[39m'\u001b[39m\u001b[39mimg\u001b[39m\u001b[39m'\u001b[39m)\n\u001b[0;32m     12\u001b[0m hmax \u001b[39m=\u001b[39m cv2\u001b[39m.\u001b[39mgetTrackbarPos(\u001b[39m'\u001b[39m\u001b[39mH_Max\u001b[39m\u001b[39m'\u001b[39m, \u001b[39m'\u001b[39m\u001b[39mimg\u001b[39m\u001b[39m'\u001b[39m)\n\u001b[1;32m---> 13\u001b[0m smin \u001b[39m=\u001b[39m cv2\u001b[39m.\u001b[39;49mgetTrackbarPos(\u001b[39m'\u001b[39;49m\u001b[39mS_Min\u001b[39;49m\u001b[39m'\u001b[39;49m, \u001b[39m'\u001b[39;49m\u001b[39mimg\u001b[39;49m\u001b[39m'\u001b[39;49m)\n\u001b[0;32m     14\u001b[0m smax \u001b[39m=\u001b[39m cv2\u001b[39m.\u001b[39mgetTrackbarPos(\u001b[39m'\u001b[39m\u001b[39mS_Max\u001b[39m\u001b[39m'\u001b[39m, \u001b[39m'\u001b[39m\u001b[39mimg\u001b[39m\u001b[39m'\u001b[39m)\n\u001b[0;32m     15\u001b[0m \u001b[39m# vmin = cv2.getTrackbarPos('V_Min', 'img')\u001b[39;00m\n\u001b[0;32m     16\u001b[0m \u001b[39m# vmax = cv2.getTrackbarPos('V_Max', 'img')\u001b[39;00m\n",
      "\u001b[1;31merror\u001b[0m: OpenCV(4.7.0) D:\\a\\opencv-python\\opencv-python\\opencv\\modules\\highgui\\src\\window.cpp:866: error: (-215:Assertion failed) trackbar in function 'cv::getTrackbarPos'\n"
     ]
    }
   ],
   "source": [
    "img = cv2.imread('fig/palette.png')\n",
    "\n",
    "if img is None:\n",
    "    print('Image load failed!')\n",
    "    sys.exit()\n",
    "\n",
    "src_hsv = cv2.cvtColor(img, cv2.COLOR_BGR2HSV)\n",
    "img1=img.copy()\n",
    "\n",
    "def BAR(pos):\n",
    "    hmin = cv2.getTrackbarPos('H_Min', 'img')\n",
    "    hmax = cv2.getTrackbarPos('H_Max', 'img')\n",
    "    smin = cv2.getTrackbarPos('S_Min', 'img')\n",
    "    smax = cv2.getTrackbarPos('S_Max', 'img')\n",
    "    # vmin = cv2.getTrackbarPos('V_Min', 'img')\n",
    "    # vmax = cv2.getTrackbarPos('V_Max', 'img')\n",
    "    \n",
    "    src = cv2.inRange(src_hsv, (hmin,smin,0),(hmax,smax,255))\n",
    "    # src = cv2.cvtColor(src_hsv, cv2.COLOR_HSV2BGR)\n",
    "    cv2.imshow('img', src)\n",
    "\n",
    "\n",
    "cv2.imshow('copy', img1)\n",
    "cv2.namedWindow('img', cv2.WINDOW_NORMAL)\n",
    "\n",
    "cv2.createTrackbar('H_Min','img',0, 179, BAR)\n",
    "cv2.createTrackbar('H_Max','img',179, 179, BAR)\n",
    "cv2.createTrackbar('S_Min','img',0, 255, BAR)\n",
    "cv2.createTrackbar('S_Max','img',255, 255, BAR)\n",
    "# cv2.createTrackbar('V_Min','img',0, 255, BAR)\n",
    "# cv2.createTrackbar('V_MAx','img',255, 255, BAR)\n",
    "\n",
    "\n",
    "cv2.waitKey()\n",
    "cv2.destroyAllWindows()\n"
   ]
  },
  {
   "cell_type": "code",
   "execution_count": null,
   "metadata": {},
   "outputs": [],
   "source": []
  }
 ],
 "metadata": {
  "kernelspec": {
   "display_name": "py3.8",
   "language": "python",
   "name": "python3"
  },
  "language_info": {
   "codemirror_mode": {
    "name": "ipython",
    "version": 3
   },
   "file_extension": ".py",
   "mimetype": "text/x-python",
   "name": "python",
   "nbconvert_exporter": "python",
   "pygments_lexer": "ipython3",
   "version": "3.8.16"
  },
  "orig_nbformat": 4
 },
 "nbformat": 4,
 "nbformat_minor": 2
}
